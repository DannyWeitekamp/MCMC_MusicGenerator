{
 "cells": [
  {
   "cell_type": "markdown",
   "metadata": {},
   "source": [
    "Instructions\n",
    "\n",
    "Get data\n",
    "\tMusic21-corpus\n",
    "\t\tCorpus.getComposer('bach')\n",
    "\tSeparate into voices\n",
    "\t\tStream.elements gives you a list of different parts\n",
    "\tBreak up into notes/rests\n",
    "\t\tStream.flat.notesAndRests()\n",
    "\tMake two bigram matrices- rhythm, pitch, normalized pitch\n",
    "\t\tRests have rhythm but pitch can just be 'Rest'\n",
    "\t\tFor chords use .root()\n",
    "\t\tNormalized pitch:\n",
    "\t\t\tNormalize to the same key (transpose everything to one base key, say C Major/minor)\n",
    "\t\t\tStream.analyze('key')\n",
    "\t\t\tCreate interval between base key and stream key\n",
    "Stream.transpose(interval)\n",
    "\n"
   ]
  },
  {
   "cell_type": "code",
   "execution_count": 4,
   "metadata": {
    "collapsed": true
   },
   "outputs": [],
   "source": [
    "duration_set = (0.125, 0.25, 0.5, 0.75, 1.0, 1.5, 2.0, 3.0, 4.0, 6.0, 8.0, 12.0)\n",
    "ds_encode_dict = {x:i for i,x in enumerate(duration_set)}\n",
    "ds_decode_dict = {i:x for i,x in enumerate(duration_set)}\n",
    "\n",
    "REST = 20\n",
    "\n",
    "def encodeDuration(x):\n",
    "    return ds_encode_dict[x]\n",
    "\n",
    "def decodeDuration(x):\n",
    "    return ds_decode_dict[x]\n",
    "\n",
    "def encodeNote(x):\n",
    "    return x - REST\n",
    "\n",
    "def decodeNote(x):\n",
    "    return x + REST\n",
    "    \n",
    "    "
   ]
  },
  {
   "cell_type": "code",
   "execution_count": 5,
   "metadata": {},
   "outputs": [
    {
     "data": {
      "text/plain": [
       "[0.125, 0.25, 0.5, 0.75, 1.0, 1.5, 2.0, 3.0, 4.0, 6.0, 8.0, 12.0]"
      ]
     },
     "execution_count": 5,
     "metadata": {},
     "output_type": "execute_result"
    }
   ],
   "source": [
    "sorted([0.5, 1.0, 2.0, 3.0, 4.0, 6.0, 0.25, 8.0, 12.0, 0.125, 0.75, 1.5])"
   ]
  },
  {
   "cell_type": "code",
   "execution_count": 6,
   "metadata": {
    "collapsed": true,
    "scrolled": true
   },
   "outputs": [],
   "source": [
    "from music21 import corpus, converter,environment, midi, interval, pitch\n",
    "from music21.stream import Stream\n",
    "from music21.interval import GenericInterval\n",
    "import numpy as np\n",
    "us = environment.UserSettings()\n",
    "\n",
    "try:\n",
    "    us.create()\n",
    "except:\n",
    "    pass\n",
    "\n",
    "# us['midiPath'] = '/usr/bin/timidity'\n",
    "\n",
    "\n",
    "    #for i, piece in enumerate(pieces):\n",
    "    #    score = converter.parse(piece)\n",
    "    #    print(piece.split(\"/\")[-1],i,[x.partName for x in score.parts])\n",
    "\n",
    "    #print(\"DONE\")\n",
    "    #raise ValueError()\n",
    "\n",
    "\n",
    "\n",
    "\n",
    "\n",
    "def frequenciesFromPieces(pieces, verbose=0):\n",
    "\n",
    "\n",
    "    first_note_freq = [0] * 80\n",
    "    first_duration_freq = [0] * len(duration_set) \n",
    "    note_transitions = np.zeros((80,80))\n",
    "    duration_transitions = np.zeros((len(duration_set),len(duration_set)))\n",
    "\n",
    "\n",
    "\n",
    "    for i, piece in enumerate(pieces):\n",
    "        if(verbose): print(piece)\n",
    "        score = converter.parse(piece)\n",
    "        key = score.analyze('key')\n",
    "        #print(rng)\n",
    "        score_interval = interval.Interval(key.tonic,pitch.Pitch('C'))\n",
    "        new_score = score.transpose(score_interval)\n",
    "        flattened_score = new_score.flattenParts()#[\"Soprano\"]\n",
    "        #flattened_score = new_score[\"Alto\"]\n",
    "        #flattened_score.flat.notesAndRests.stream().show('text')\n",
    "        prevNote = None\n",
    "        prevDuration = None\n",
    "        for x in flattened_score.flat.notesAndRests.stream():\n",
    "            if(x.isChord):\n",
    "                note_num = x.root().midi\n",
    "            else:\n",
    "                note_num = x.pitch.midi\n",
    "            if(x.isRest):\n",
    "                note_num = REST\n",
    "\n",
    "            e_n = encodeNote(note_num)\n",
    "            e_d = encodeDuration(x.duration.quarterLength)\n",
    "\n",
    "            if(prevNote == None):\n",
    "                first_note_freq[e_n] += 1\n",
    "                first_duration_freq[e_d] += 1\n",
    "            else:\n",
    "                note_transitions[prevNote,e_n] += 1\n",
    "                duration_transitions[prevDuration,e_d] += 1\n",
    "\n",
    "            prevNote = e_n\n",
    "            prevDuration = e_d\n",
    "    return first_note_freq, first_duration_freq, note_transitions, duration_transitions\n",
    "\n",
    "def writeHDF5(name,out):\n",
    "    f = h5py.File(name, 'w')\n",
    "    f.create_dataset('first_note_freq', data=out[0])\n",
    "    f.create_dataset('first_duration_freq', data=out[1])\n",
    "    f.create_dataset('note_transitions', data=out[2])\n",
    "    f.create_dataset('duration_transitions', data=out[3])\n",
    "    f.close()\n",
    "    \n",
    "def readHDF5(name):\n",
    "    f = h5py.File(name, 'r')\n",
    "    out = (f[\"first_note_freq\"][:],\n",
    "           f[\"first_duration_freq\"][:],\n",
    "           f[\"note_transitions\"][:],\n",
    "           f[\"duration_transitions\"][:])\n",
    "    f.close()\n",
    "    return out\n",
    "\n",
    "def selectSimplePieces(piece):\n",
    "    score = converter.parse(piece)\n",
    "    return set([x.partName for x in score.parts]) == set(['Soprano', 'Alto', 'Tenor', 'Bass'])\n",
    "        \n",
    "        #print(first_note_priors)\n",
    "        #print(first_duration_priors)\n",
    "        \n",
    "        #print(note_transitions)\n",
    "        #print(duration_transitions)\n",
    "        \n",
    "        #duration_set.add(x.duration.quarterLength)\n",
    "        #note_set.add(note_num)\n",
    "        #print(x.isChord,x.duration.quarterLength,x.name, x.pitch.diatonicNoteNum,x.isNote)\n",
    "    #print(note_set)\n",
    "    #print(duration_set)\n",
    "    \n",
    "    #sp = midi.realtime.StreamPlayer(part)\n",
    "    #sp.play()\n",
    "    #print(score.flat.elements)\n",
    "    #print(type(score))\n",
    "    #a = score.elements.encode('utf-8').strip()\n",
    "    #print(score.flat.notesAndRests())\n",
    "    #break\n",
    "    #for e in score.parts:\n",
    "        #e = e.flat.notesAndRests()\n",
    "    #    sp = midi.realtime.StreamPlayer(e)\n",
    "    #    sp.play()\n",
    "        \n",
    "        #print(unicode(e).encode('utf8'))\n",
    "    #print(score.elements[2])\n",
    "    #break\n",
    "    #score.flat.notesAndRests()\n",
    "    #print(score)\n",
    "    #score.flat.show(\"midi\")\n",
    "    #if(i > 10):\n",
    "    #    break"
   ]
  },
  {
   "cell_type": "code",
   "execution_count": 7,
   "metadata": {},
   "outputs": [
    {
     "name": "stdout",
     "output_type": "stream",
     "text": [
      "C:\\Users\\liget_4sn\\Anaconda3\\Lib\\site-packages\\music21\\corpus\\bach\\bwv1.6.mxl\n",
      "C:\\Users\\liget_4sn\\Anaconda3\\Lib\\site-packages\\music21\\corpus\\bach\\bwv10.7.mxl\n"
     ]
    },
    {
     "ename": "KeyboardInterrupt",
     "evalue": "",
     "output_type": "error",
     "traceback": [
      "\u001b[1;31m---------------------------------------------------------------------------\u001b[0m",
      "\u001b[1;31mKeyboardInterrupt\u001b[0m                         Traceback (most recent call last)",
      "\u001b[1;32m<ipython-input-7-d573c0fb1a0c>\u001b[0m in \u001b[0;36m<module>\u001b[1;34m()\u001b[0m\n\u001b[0;32m      2\u001b[0m \u001b[1;33m\u001b[0m\u001b[0m\n\u001b[0;32m      3\u001b[0m \u001b[0mallBach\u001b[0m \u001b[1;33m=\u001b[0m \u001b[0mcorpus\u001b[0m\u001b[1;33m.\u001b[0m\u001b[0mgetComposer\u001b[0m\u001b[1;33m(\u001b[0m\u001b[1;34m'bach'\u001b[0m\u001b[1;33m)\u001b[0m\u001b[1;33m\u001b[0m\u001b[0m\n\u001b[1;32m----> 4\u001b[1;33m \u001b[0mout\u001b[0m \u001b[1;33m=\u001b[0m \u001b[0mfrequenciesFromPieces\u001b[0m\u001b[1;33m(\u001b[0m\u001b[0mallBach\u001b[0m\u001b[1;33m,\u001b[0m\u001b[0mverbose\u001b[0m\u001b[1;33m=\u001b[0m\u001b[1;36m1\u001b[0m\u001b[1;33m)\u001b[0m\u001b[1;33m\u001b[0m\u001b[0m\n\u001b[0m\u001b[0;32m      5\u001b[0m \u001b[0mwriteHDF5\u001b[0m\u001b[1;33m(\u001b[0m\u001b[1;34m'all_bach.h5'\u001b[0m\u001b[1;33m,\u001b[0m \u001b[0mout\u001b[0m\u001b[1;33m)\u001b[0m\u001b[1;33m\u001b[0m\u001b[0m\n\u001b[0;32m      6\u001b[0m \u001b[1;33m\u001b[0m\u001b[0m\n",
      "\u001b[1;32m<ipython-input-6-a8ac8e671f44>\u001b[0m in \u001b[0;36mfrequenciesFromPieces\u001b[1;34m(pieces, verbose)\u001b[0m\n\u001b[0;32m     40\u001b[0m         \u001b[1;31m#print(rng)\u001b[0m\u001b[1;33m\u001b[0m\u001b[1;33m\u001b[0m\u001b[0m\n\u001b[0;32m     41\u001b[0m         \u001b[0mscore_interval\u001b[0m \u001b[1;33m=\u001b[0m \u001b[0minterval\u001b[0m\u001b[1;33m.\u001b[0m\u001b[0mInterval\u001b[0m\u001b[1;33m(\u001b[0m\u001b[0mkey\u001b[0m\u001b[1;33m.\u001b[0m\u001b[0mtonic\u001b[0m\u001b[1;33m,\u001b[0m\u001b[0mpitch\u001b[0m\u001b[1;33m.\u001b[0m\u001b[0mPitch\u001b[0m\u001b[1;33m(\u001b[0m\u001b[1;34m'C'\u001b[0m\u001b[1;33m)\u001b[0m\u001b[1;33m)\u001b[0m\u001b[1;33m\u001b[0m\u001b[0m\n\u001b[1;32m---> 42\u001b[1;33m         \u001b[0mnew_score\u001b[0m \u001b[1;33m=\u001b[0m \u001b[0mscore\u001b[0m\u001b[1;33m.\u001b[0m\u001b[0mtranspose\u001b[0m\u001b[1;33m(\u001b[0m\u001b[0mscore_interval\u001b[0m\u001b[1;33m)\u001b[0m\u001b[1;33m\u001b[0m\u001b[0m\n\u001b[0m\u001b[0;32m     43\u001b[0m         \u001b[0mflattened_score\u001b[0m \u001b[1;33m=\u001b[0m \u001b[0mnew_score\u001b[0m\u001b[1;33m.\u001b[0m\u001b[0mflattenParts\u001b[0m\u001b[1;33m(\u001b[0m\u001b[1;33m)\u001b[0m\u001b[1;31m#[\"Soprano\"]\u001b[0m\u001b[1;33m\u001b[0m\u001b[0m\n\u001b[0;32m     44\u001b[0m         \u001b[1;31m#flattened_score = new_score[\"Alto\"]\u001b[0m\u001b[1;33m\u001b[0m\u001b[1;33m\u001b[0m\u001b[0m\n",
      "\u001b[1;32m~\\Anaconda3\\lib\\site-packages\\music21\\stream\\__init__.py\u001b[0m in \u001b[0;36mtranspose\u001b[1;34m(self, value, inPlace, recurse, classFilterList)\u001b[0m\n\u001b[0;32m   7795\u001b[0m                             \u001b[0mvalue\u001b[0m\u001b[1;33m.\u001b[0m\u001b[0mtransposePitchKeyAware\u001b[0m\u001b[1;33m(\u001b[0m\u001b[0mp\u001b[0m\u001b[1;33m,\u001b[0m \u001b[0mk\u001b[0m\u001b[1;33m,\u001b[0m \u001b[0minPlace\u001b[0m\u001b[1;33m=\u001b[0m\u001b[1;32mTrue\u001b[0m\u001b[1;33m)\u001b[0m\u001b[1;33m\u001b[0m\u001b[0m\n\u001b[0;32m   7796\u001b[0m                 \u001b[1;32melse\u001b[0m\u001b[1;33m:\u001b[0m\u001b[1;33m\u001b[0m\u001b[0m\n\u001b[1;32m-> 7797\u001b[1;33m                     \u001b[0me\u001b[0m\u001b[1;33m.\u001b[0m\u001b[0mtranspose\u001b[0m\u001b[1;33m(\u001b[0m\u001b[0mvalue\u001b[0m\u001b[1;33m,\u001b[0m \u001b[0minPlace\u001b[0m\u001b[1;33m=\u001b[0m\u001b[1;32mTrue\u001b[0m\u001b[1;33m)\u001b[0m\u001b[1;33m\u001b[0m\u001b[0m\n\u001b[0m\u001b[0;32m   7798\u001b[0m         \u001b[1;32mif\u001b[0m \u001b[1;32mnot\u001b[0m \u001b[0minPlace\u001b[0m\u001b[1;33m:\u001b[0m\u001b[1;33m\u001b[0m\u001b[0m\n\u001b[0;32m   7799\u001b[0m             \u001b[1;32mreturn\u001b[0m \u001b[0mpost\u001b[0m\u001b[1;33m\u001b[0m\u001b[0m\n",
      "\u001b[1;32m~\\Anaconda3\\lib\\site-packages\\music21\\note.py\u001b[0m in \u001b[0;36mtranspose\u001b[1;34m(self, value, inPlace)\u001b[0m\n\u001b[0;32m   1349\u001b[0m         \u001b[1;31m# use inPlace, b/c if we are inPlace, we operate on self;\u001b[0m\u001b[1;33m\u001b[0m\u001b[1;33m\u001b[0m\u001b[0m\n\u001b[0;32m   1350\u001b[0m         \u001b[1;31m# if we are not inPlace, post is a copy\u001b[0m\u001b[1;33m\u001b[0m\u001b[1;33m\u001b[0m\u001b[0m\n\u001b[1;32m-> 1351\u001b[1;33m         \u001b[0mpost\u001b[0m\u001b[1;33m.\u001b[0m\u001b[0mpitch\u001b[0m\u001b[1;33m.\u001b[0m\u001b[0mtranspose\u001b[0m\u001b[1;33m(\u001b[0m\u001b[0mintervalObj\u001b[0m\u001b[1;33m,\u001b[0m \u001b[0minPlace\u001b[0m\u001b[1;33m=\u001b[0m\u001b[1;32mTrue\u001b[0m\u001b[1;33m)\u001b[0m\u001b[1;33m\u001b[0m\u001b[0m\n\u001b[0m\u001b[0;32m   1352\u001b[0m         if (post.pitch.accidental is not None\n\u001b[0;32m   1353\u001b[0m                 and isinstance(value, (int, interval.ChromaticInterval))):\n",
      "\u001b[1;32m~\\Anaconda3\\lib\\site-packages\\music21\\pitch.py\u001b[0m in \u001b[0;36mtranspose\u001b[1;34m(self, value, inPlace)\u001b[0m\n\u001b[0;32m   4274\u001b[0m \u001b[1;33m\u001b[0m\u001b[0m\n\u001b[0;32m   4275\u001b[0m \u001b[1;33m\u001b[0m\u001b[0m\n\u001b[1;32m-> 4276\u001b[1;33m         \u001b[0mp\u001b[0m \u001b[1;33m=\u001b[0m \u001b[0mintervalObj\u001b[0m\u001b[1;33m.\u001b[0m\u001b[0mtransposePitch\u001b[0m\u001b[1;33m(\u001b[0m\u001b[0mself\u001b[0m\u001b[1;33m)\u001b[0m\u001b[1;33m\u001b[0m\u001b[0m\n\u001b[0m\u001b[0;32m   4277\u001b[0m         \u001b[1;32mif\u001b[0m \u001b[1;32mnot\u001b[0m \u001b[0misinstance\u001b[0m\u001b[1;33m(\u001b[0m\u001b[0mvalue\u001b[0m\u001b[1;33m,\u001b[0m \u001b[0mint\u001b[0m\u001b[1;33m)\u001b[0m\u001b[1;33m:\u001b[0m\u001b[1;33m\u001b[0m\u001b[0m\n\u001b[0;32m   4278\u001b[0m             \u001b[0mp\u001b[0m\u001b[1;33m.\u001b[0m\u001b[0mspellingIsInferred\u001b[0m \u001b[1;33m=\u001b[0m \u001b[0mself\u001b[0m\u001b[1;33m.\u001b[0m\u001b[0mspellingIsInferred\u001b[0m\u001b[1;33m\u001b[0m\u001b[0m\n",
      "\u001b[1;32m~\\Anaconda3\\lib\\site-packages\\music21\\interval.py\u001b[0m in \u001b[0;36mtransposePitch\u001b[1;34m(self, p, reverse, maxAccidental)\u001b[0m\n\u001b[0;32m   2219\u001b[0m             \u001b[0mpOut\u001b[0m \u001b[1;33m=\u001b[0m \u001b[0mself\u001b[0m\u001b[1;33m.\u001b[0m\u001b[0mchromatic\u001b[0m\u001b[1;33m.\u001b[0m\u001b[0mtransposePitch\u001b[0m\u001b[1;33m(\u001b[0m\u001b[0mp\u001b[0m\u001b[1;33m)\u001b[0m\u001b[1;33m\u001b[0m\u001b[0m\n\u001b[0;32m   2220\u001b[0m         \u001b[1;32melse\u001b[0m\u001b[1;33m:\u001b[0m\u001b[1;33m\u001b[0m\u001b[0m\n\u001b[1;32m-> 2221\u001b[1;33m             \u001b[0mpOut\u001b[0m \u001b[1;33m=\u001b[0m \u001b[0mself\u001b[0m\u001b[1;33m.\u001b[0m\u001b[0m_diatonicTransposePitch\u001b[0m\u001b[1;33m(\u001b[0m\u001b[0mp\u001b[0m\u001b[1;33m,\u001b[0m \u001b[0mreverse\u001b[0m\u001b[1;33m,\u001b[0m \u001b[0mmaxAccidental\u001b[0m\u001b[1;33m)\u001b[0m\u001b[1;33m\u001b[0m\u001b[0m\n\u001b[0m\u001b[0;32m   2222\u001b[0m \u001b[1;33m\u001b[0m\u001b[0m\n\u001b[0;32m   2223\u001b[0m \u001b[1;33m\u001b[0m\u001b[0m\n",
      "\u001b[1;32m~\\Anaconda3\\lib\\site-packages\\music21\\interval.py\u001b[0m in \u001b[0;36m_diatonicTransposePitch\u001b[1;34m(self, p, reverse, maxAccidental)\u001b[0m\n\u001b[0;32m   2245\u001b[0m         \u001b[0mpitch1\u001b[0m \u001b[1;33m=\u001b[0m \u001b[0mp\u001b[0m\u001b[1;33m\u001b[0m\u001b[0m\n\u001b[0;32m   2246\u001b[0m         \u001b[0mpitch2\u001b[0m \u001b[1;33m=\u001b[0m \u001b[0mcopy\u001b[0m\u001b[1;33m.\u001b[0m\u001b[0mdeepcopy\u001b[0m\u001b[1;33m(\u001b[0m\u001b[0mpitch1\u001b[0m\u001b[1;33m)\u001b[0m\u001b[1;33m\u001b[0m\u001b[0m\n\u001b[1;32m-> 2247\u001b[1;33m         \u001b[0moldDiatonicNum\u001b[0m \u001b[1;33m=\u001b[0m \u001b[0mpitch1\u001b[0m\u001b[1;33m.\u001b[0m\u001b[0mdiatonicNoteNum\u001b[0m\u001b[1;33m\u001b[0m\u001b[0m\n\u001b[0m\u001b[0;32m   2248\u001b[0m         \u001b[1;31m#centsOrigin = pitch1.microtone.cents #unused!!\u001b[0m\u001b[1;33m\u001b[0m\u001b[1;33m\u001b[0m\u001b[0m\n\u001b[0;32m   2249\u001b[0m         \u001b[0mdistanceToMove\u001b[0m \u001b[1;33m=\u001b[0m \u001b[0mself\u001b[0m\u001b[1;33m.\u001b[0m\u001b[0mdiatonic\u001b[0m\u001b[1;33m.\u001b[0m\u001b[0mgeneric\u001b[0m\u001b[1;33m.\u001b[0m\u001b[0mstaffDistance\u001b[0m\u001b[1;33m\u001b[0m\u001b[0m\n",
      "\u001b[1;32m~\\Anaconda3\\lib\\site-packages\\music21\\pitch.py\u001b[0m in \u001b[0;36m_getDiatonicNoteNum\u001b[1;34m(self)\u001b[0m\n\u001b[0;32m   4167\u001b[0m         \u001b[1;32mif\u001b[0m \u001b[1;33m[\u001b[0m\u001b[1;34m'C'\u001b[0m\u001b[1;33m,\u001b[0m \u001b[1;34m'D'\u001b[0m\u001b[1;33m,\u001b[0m \u001b[1;34m'E'\u001b[0m\u001b[1;33m,\u001b[0m \u001b[1;34m'F'\u001b[0m\u001b[1;33m,\u001b[0m \u001b[1;34m'G'\u001b[0m\u001b[1;33m,\u001b[0m \u001b[1;34m'A'\u001b[0m\u001b[1;33m,\u001b[0m \u001b[1;34m'B'\u001b[0m\u001b[1;33m]\u001b[0m\u001b[1;33m.\u001b[0m\u001b[0mcount\u001b[0m\u001b[1;33m(\u001b[0m\u001b[0mself\u001b[0m\u001b[1;33m.\u001b[0m\u001b[0mstep\u001b[0m\u001b[1;33m.\u001b[0m\u001b[0mupper\u001b[0m\u001b[1;33m(\u001b[0m\u001b[1;33m)\u001b[0m\u001b[1;33m)\u001b[0m\u001b[1;33m:\u001b[0m\u001b[1;33m\u001b[0m\u001b[0m\n\u001b[0;32m   4168\u001b[0m             \u001b[0mnoteNumber\u001b[0m \u001b[1;33m=\u001b[0m \u001b[1;33m[\u001b[0m\u001b[1;34m'C'\u001b[0m\u001b[1;33m,\u001b[0m \u001b[1;34m'D'\u001b[0m\u001b[1;33m,\u001b[0m \u001b[1;34m'E'\u001b[0m\u001b[1;33m,\u001b[0m \u001b[1;34m'F'\u001b[0m\u001b[1;33m,\u001b[0m \u001b[1;34m'G'\u001b[0m\u001b[1;33m,\u001b[0m \u001b[1;34m'A'\u001b[0m\u001b[1;33m,\u001b[0m \u001b[1;34m'B'\u001b[0m\u001b[1;33m]\u001b[0m\u001b[1;33m.\u001b[0m\u001b[0mindex\u001b[0m\u001b[1;33m(\u001b[0m\u001b[0mself\u001b[0m\u001b[1;33m.\u001b[0m\u001b[0mstep\u001b[0m\u001b[1;33m.\u001b[0m\u001b[0mupper\u001b[0m\u001b[1;33m(\u001b[0m\u001b[1;33m)\u001b[0m\u001b[1;33m)\u001b[0m\u001b[1;33m\u001b[0m\u001b[0m\n\u001b[1;32m-> 4169\u001b[1;33m             \u001b[1;32mreturn\u001b[0m \u001b[1;33m(\u001b[0m\u001b[0mnoteNumber\u001b[0m \u001b[1;33m+\u001b[0m \u001b[1;36m1\u001b[0m \u001b[1;33m+\u001b[0m \u001b[1;33m(\u001b[0m\u001b[1;36m7\u001b[0m \u001b[1;33m*\u001b[0m \u001b[0mself\u001b[0m\u001b[1;33m.\u001b[0m\u001b[0mimplicitOctave\u001b[0m\u001b[1;33m)\u001b[0m\u001b[1;33m)\u001b[0m\u001b[1;33m\u001b[0m\u001b[0m\n\u001b[0m\u001b[0;32m   4170\u001b[0m         \u001b[1;32melse\u001b[0m\u001b[1;33m:\u001b[0m\u001b[1;33m\u001b[0m\u001b[0m\n\u001b[0;32m   4171\u001b[0m             \u001b[1;32mraise\u001b[0m \u001b[0mPitchException\u001b[0m\u001b[1;33m(\u001b[0m\u001b[1;34m'Could not find '\u001b[0m \u001b[1;33m+\u001b[0m \u001b[0mself\u001b[0m\u001b[1;33m.\u001b[0m\u001b[0mstep\u001b[0m \u001b[1;33m+\u001b[0m \u001b[1;34m' in the index of notes'\u001b[0m\u001b[1;33m)\u001b[0m\u001b[1;33m\u001b[0m\u001b[0m\n",
      "\u001b[1;31mKeyboardInterrupt\u001b[0m: "
     ]
    }
   ],
   "source": [
    "import h5py\n",
    "\n",
    "allBach = corpus.getComposer('bach')\n",
    "out = frequenciesFromPieces(allBach,verbose=1)\n",
    "writeHDF5('all_bach.h5', out)\n",
    "\n",
    "simpleBach = list(filter(selectSimplePieces, allBach))\n",
    "out = frequenciesFromPieces(simpleBach,verbose=1)\n",
    "writeHDF5('simple_bach.h5', out)\n",
    "\n",
    "print(len(simpleBach),len(allBach))\n",
    "\n"
   ]
  },
  {
   "cell_type": "code",
   "execution_count": 17,
   "metadata": {},
   "outputs": [
    {
     "data": {
      "image/png": "[encoded data removed]",
      "text/plain": [
       "<matplotlib.figure.Figure at 0xd7fde30>"
      ]
     },
     "metadata": {
      "image/png": {
       "height": 250,
       "width": 253
      }
     },
     "output_type": "display_data"
    },
    {
     "data": {
      "image/png": "[encoded data removed]",
      "text/plain": [
       "<matplotlib.figure.Figure at 0x30978d0>"
      ]
     },
     "metadata": {
      "image/png": {
       "height": 250,
       "width": 253
      }
     },
     "output_type": "display_data"
    },
    {
     "data": {
      "image/png": "[encoded data removed]",
      "text/plain": [
       "<matplotlib.figure.Figure at 0xd4c1fb0>"
      ]
     },
     "metadata": {
      "image/png": {
       "height": 250,
       "width": 253
      }
     },
     "output_type": "display_data"
    },
    {
     "data": {
      "image/png": "[encoded data removed]",
      "text/plain": [
       "<matplotlib.figure.Figure at 0xd495e30>"
      ]
     },
     "metadata": {
      "image/png": {
       "height": 250,
       "width": 253
      }
     },
     "output_type": "display_data"
    }
   ],
   "source": [
    "#f = h5py.File('all_bach.h5', 'r')\n",
    "# np.unique(readHDF5('all_bach.h5')[2])\n",
    "allBachMat = readHDF5('all_bach.h5')\n",
    "simpleBachMat = readHDF5('simple_bach.h5')\n",
    "plt.imshow(allBachMat[2], cmap='binary', interpolation='none')\n",
    "plt.show()\n",
    "plt.imshow(allBachMat[3], cmap='binary', interpolation='none')   \n",
    "plt.show()\n",
    "plt.imshow(simpleBachMat[2], cmap='binary', interpolation='none')\n",
    "plt.show()\n",
    "plt.imshow(simpleBachMat[3], cmap='binary', interpolation='none')   \n",
    "plt.show()"
   ]
  },
  {
   "cell_type": "code",
   "execution_count": 8,
   "metadata": {
    "collapsed": true
   },
   "outputs": [],
   "source": [
    "import math\n",
    "import matplotlib.pyplot as plt\n",
    "from matplotlib import animation\n",
    "import pandas as pd\n",
    "import scipy.stats as stats\n",
    "import utils"
   ]
  },
  {
   "cell_type": "code",
   "execution_count": 2,
   "metadata": {
    "collapsed": true
   },
   "outputs": [],
   "source": [
    "def metropolis_hastings(proposal_func, init_func, acceptance_score, num_iters, step=30):\n",
    "    \"\"\"\n",
    "    Runs the metropolis-hastings algorithm for\n",
    "    num_iters iterations, using proposal_func\n",
    "    to generate samples and scorer to assign\n",
    "    probability scores to samples.\n",
    "      \n",
    "    proposal_func -- function that proposes\n",
    "        candidate state; takes in current state as\n",
    "        argument and returns candidate state\n",
    "    init_func -- function that proposes starting\n",
    "        state; takes no arguments and returns a\n",
    "        sample state\n",
    "    acceptance_score -- function that calculates the acceptance\n",
    "        probability; takes in two state samples\n",
    "        (candidate first, then sample) and returns\n",
    "        acceptance probability\n",
    "    \n",
    "    Returns a sequence of every step-th sample. You \n",
    "    should only sample on upon acceptance of a new\n",
    "    proposal. Do not keep sampling the current state.\n",
    "    \n",
    "    Note the total number of samples will NOT be\n",
    "    equal to num_iters. num_iters is the total number\n",
    "    of proposals we generate.\n",
    "    \"\"\"\n",
    "    samples = []\n",
    "    sample = init_func()\n",
    "    for i in range(num_iters):\n",
    "        candidate = proposal_func(sample)\n",
    "        acceptance_ratio = min(1, acceptance_score(candidate,sample))\n",
    "        if np.random.uniform() < acceptance_ratio:\n",
    "            sample = candidate\n",
    "            samples.append(sample)\n",
    "    return samples[::step]"
   ]
  },
  {
   "cell_type": "code",
   "execution_count": null,
   "metadata": {
    "collapsed": true
   },
   "outputs": [],
   "source": [
    "def starting_state():\n",
    "    \"\"\"\n",
    "    Start with a random permutation.\n",
    "    \"\"\"\n",
    "    starting_ordering = list(range(0, 27))\n",
    "    np.random.shuffle(starting_ordering)\n",
    "    return starting_ordering\n",
    "\n",
    "def sample_candidate(sample):\n",
    "    \"\"\"\n",
    "    To search for new ciphers, randomly\n",
    "    swap two letters in the previous cipher.\n",
    "    \"\"\"\n",
    "    to_swap = np.random.choice(27, 2)\n",
    "    new_sample = sample[:]\n",
    "    new_sample[to_swap[0]], new_sample[to_swap[1]] = sample[to_swap[1]], sample[to_swap[0]]\n",
    "    return new_sample\n",
    "\n",
    "def make_acceptance_scorer(rhythm_mat, pitch_mat):\n",
    "    \"\"\"\n",
    "    Calculate the acceptance probability, which is the\n",
    "    probability of observing the message translated by\n",
    "    the proposed cipher devided by the probability of\n",
    "    obseving the message translated by the current\n",
    "    cipher.\n",
    "    \"\"\"\n",
    "    def scorer(candidate, sample):\n",
    "        nonlocal rhythm_mat\n",
    "        nonlocal pitch_mat\n",
    "        candidate_log_likeihood = 0\n",
    "        sample_log_likeihood = 0\n",
    "        for i in range(len(decode_string) - 1):\n",
    "            first_char = ord(decode_string[i].upper()) - 65 if decode_string[i].isalpha() else 26\n",
    "            second_char = ord(decode_string[i+1].upper()) - 65 if decode_string[i+1].isalpha() else 26\n",
    "            \n",
    "            c_first, c_second = candidate[first_char], candidate[second_char]\n",
    "            candidate_log_likeihood += np.log(transition_matrix[c_first][c_second])\n",
    "\n",
    "            s_first, s_second = sample[first_char], sample[second_char]\n",
    "            sample_log_likeihood += np.log(transition_matrix[s_first][s_second])\n",
    "        return np.exp(candidate_log_likeihood - sample_log_likeihood)\n",
    "    return scorer\n",
    "\n",
    "scorer = make_acceptance_scorer(the_secret_message, bigram_freq_matrix)"
   ]
  },
  {
   "cell_type": "code",
   "execution_count": null,
   "metadata": {
    "collapsed": true
   },
   "outputs": [],
   "source": [
    "samples = metropolis_hastings(sample_candidate, starting_state, scorer, 10000)"
   ]
  },
  {
   "cell_type": "code",
   "execution_count": null,
   "metadata": {
    "collapsed": true
   },
   "outputs": [],
   "source": [
    "for sample in samples[:5]:\n",
    "    print(decode(the_secret_message, sample), '\\n')"
   ]
  },
  {
   "cell_type": "code",
   "execution_count": null,
   "metadata": {
    "collapsed": true
   },
   "outputs": [],
   "source": [
    "combined = [\" \".join([str(x) for x in s]) for s in samples]\n",
    "best_combined = max(set(combined),key=combined.count)\n",
    "your_best_cipher = [int(x) for x in best_combined.split()]\n",
    "decode(the_secret_message,your_best_cipher).upper()"
   ]
  }
 ],
 "metadata": {
  "kernelspec": {
   "display_name": "Python 3",
   "language": "python",
   "name": "python3"
  },
  "language_info": {
   "codemirror_mode": {
    "name": "ipython",
    "version": 3
   },
   "file_extension": ".py",
   "mimetype": "text/x-python",
   "name": "python",
   "nbconvert_exporter": "python",
   "pygments_lexer": "ipython3",
   "version": "3.6.3"
  }
 },
 "nbformat": 4,
 "nbformat_minor": 2
}
